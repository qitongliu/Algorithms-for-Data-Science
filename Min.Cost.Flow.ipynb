{
 "cells": [
  {
   "cell_type": "markdown",
   "metadata": {},
   "source": [
    "# Generalizations of Max-Flow\n",
    "\n",
    "The purpose of this assignment is to learn about the min-cost flow problem, a generalization of max-flow, and to familiarize yourself with implementing and solving linear programs."
   ]
  },
  {
   "cell_type": "markdown",
   "metadata": {},
   "source": [
    "## Min-Cost Flow\n",
    "\n",
    "Recall that a flow network with demands consists of a directed graph $G = (V, E)$, where each edge $(i,j) \\in E$ has a positive integer capacity $c_{ij}$ and each node $i \\in V$ has an integer demand $d_i$. In a *min-cost flow* problem, each edge $(i,j) \\in E$ also has a cost (or weight) $w_{ij}$. (Note that this input generalizes the input to two important problems we discussed so far: in max flow, the edge weights were not important while in shortest paths, the edge capacities were not important.) \n",
    "\n",
    "Given a flow network with capacities and costs, the goal is to find a *feasible* flow $f: E \\rightarrow R^+$ --that is, a flow satisfying edge capacity constraints and node demands-- that minimizes the total cost of the flow. Explicitly, the problem can be formulated as a linear program."
   ]
  },
  {
   "cell_type": "markdown",
   "metadata": {},
   "source": [
    "### Question 1\n",
    "\n",
    "Answer Problem 1 in HW4-theoretical."
   ]
  },
  {
   "cell_type": "markdown",
   "metadata": {},
   "source": [
    "### Question 2\n",
    "\n",
    "To implement your reduction from Problem 1 in HW4-theoretical, you will work with some standard benchmark instances for min-cost flow found [here](http://elib.zib.de/pub/Packages/mp-testdata/mincost/gte/index.html). The format of the data is described in the [Info](http://elib.zib.de/pub/Packages/mp-testdata/mincost/gte/info) file. You are to read in the graph from the data file in a form that can be solved using NetworkX's `min_cost_flow` function. Note that the data sometimes lists multiple edges between the same nodes, but with different costs or capacities. In forming the graph, you need to implement your reduction from the previous question and form a `DiGraph` instance, because the `min_cost_flow` function cannot handle multi-edges, even though the package offers `MultiDiGraph` objects."
   ]
  },
  {
   "cell_type": "code",
   "execution_count": 1,
   "metadata": {
    "collapsed": false
   },
   "outputs": [],
   "source": [
    "import networkx as nx\n",
    "\n",
    "def create_graph(infile):\n",
    "    \"\"\"Creates a directed graph as specified by the input file. Edges are annotated with 'capacity'\n",
    "    and 'weight' attributes, and nodes are annotated with 'demand' attributes.\n",
    "    \n",
    "    Args:\n",
    "        infile: the input file using the format to specify a min-cost flow problem.\n",
    "        \n",
    "    Returns:\n",
    "        A directed graph (but not a multi-graph) with edges annotated with 'capacity' and 'weight' attributes\n",
    "        and nodes annotated with 'demand' attributes.\n",
    "    \"\"\"\n",
    "    # TODO: implement function\n",
    "    myG=nx.DiGraph()\n",
    "    myfile=open(infile,'r')\n",
    "    while True:\n",
    "        line = myfile.readline().strip()\n",
    "        if line == \"\":\n",
    "            break\n",
    "        if line[0] == 'p':                  \n",
    "            n = int(line.split()[2])\n",
    "            myG.add_nodes_from(range(1, n+1), demand = 0)\n",
    "            exist = [[0 for j in range(n)] for i in range(n)]\n",
    "        elif line[0] == 'n':\n",
    "            myG.node[int(line.split()[1])]['demand'] = int(line.split()[2])\n",
    "        elif line[0] == 'a':\n",
    "            line = [int(x) for x in line.split()[1:]]\n",
    "            if exist[line[0]-1][line[1]-1] == 0: \n",
    "                myG.add_edge(line[0], line[1], capacity = line[3], weight = line[4])\n",
    "                exist[line[0]-1][line[1]-1] = 1\n",
    "            else:\n",
    "                n = n+1\n",
    "                myG.add_node(n, demand = 0)\n",
    "                myG.add_edge(line[0], n, capacity = line[3], weight = line[4])\n",
    "                myG.add_edge(n, line[1], capacity = line[3], weight = 0)\n",
    "    return myG"
   ]
  },
  {
   "cell_type": "markdown",
   "metadata": {},
   "source": [
    "The following will check that your code outputs the expected min cost flow values on several test instances."
   ]
  },
  {
   "cell_type": "code",
   "execution_count": 2,
   "metadata": {
    "collapsed": false
   },
   "outputs": [
    {
     "name": "stdout",
     "output_type": "stream",
     "text": [
      "Correct value for _40 instance: True\n",
      "Correct value for _6830 instance: True\n",
      "Correct value for _176280 instance: True\n"
     ]
    }
   ],
   "source": [
    "G_40 = create_graph('gte_bad.40')\n",
    "G_6830 = create_graph('gte_bad.6830')\n",
    "G_176280 = create_graph('gte_bad.176280')\n",
    "\n",
    "print \"Correct value for _40 instance:\", nx.min_cost_flow_cost(G_40) == 52099553858\n",
    "print \"Correct value for _6830 instance:\", nx.min_cost_flow_cost(G_6830) == 299390431788\n",
    "print \"Correct value for _176280 instance:\", nx.min_cost_flow_cost(G_176280) == 510585093810"
   ]
  },
  {
   "cell_type": "markdown",
   "metadata": {},
   "source": [
    "## Linear Programming\n",
    "\n",
    "Instead of using special-purpose min-cost flow solvers, you will now formulate the problems as linear programs and use general-purpose LP solvers to find the solutions."
   ]
  },
  {
   "cell_type": "markdown",
   "metadata": {},
   "source": [
    "### Question 3\n",
    "\n",
    "Implement the following function to formulate the flow LP and return the optimal value (i.e., minimum cost over feasible flows)."
   ]
  },
  {
   "cell_type": "code",
   "execution_count": 3,
   "metadata": {
    "collapsed": false
   },
   "outputs": [],
   "source": [
    "import pulp\n",
    "\n",
    "def lp_flow_value(G):\n",
    "    \"\"\"Computes the value of the minimum cost flow by formulating and solving\n",
    "    the problem as an LP.\n",
    "    \n",
    "    Args:\n",
    "        G: a directed graph with edges annotated with 'capacity' and 'weight'\n",
    "            attrbutes, and nodes annotated with 'demand' attributes.\n",
    "            \n",
    "    Returns:\n",
    "        The value of the minimum cost flow.\n",
    "    \"\"\"\n",
    "    # TODO: implement function\n",
    "    prob=pulp.LpProblem(\"mincostflow\", pulp.LpMinimize)\n",
    "    capacity = nx.get_edge_attributes(G, 'capacity')\n",
    "    weight = nx.get_edge_attributes(G, 'weight')\n",
    "    demand = nx.get_node_attributes(G, 'demand')\n",
    "    flow = pulp.LpVariable.dicts('flow', G.edges(), 0, None, pulp.LpInteger)\n",
    "    prob += sum([weight[edge]*flow[edge] for edge in G.edges()]), \"Total Cost of Flow\"\n",
    "    for node in G.nodes():\n",
    "        prob += sum(flow[in_edge] for in_edge in G.in_edges(node)) - sum(flow[out_edge] for out_edge in G.out_edges(node)) == demand[node]\n",
    "    for edge in G.edges():\n",
    "        prob += flow[edge] <= capacity[edge]\n",
    "    prob.solve()\n",
    "    return int(pulp.value(prob.objective))"
   ]
  },
  {
   "cell_type": "code",
   "execution_count": 4,
   "metadata": {
    "collapsed": false
   },
   "outputs": [
    {
     "name": "stdout",
     "output_type": "stream",
     "text": [
      "Correct value for _40 instance: True\n",
      "Correct value for _6830 instance: True\n",
      "Correct value for _176280 instance: True\n"
     ]
    }
   ],
   "source": [
    "print \"Correct value for _40 instance:\", lp_flow_value(G_40) == 52099553858\n",
    "print \"Correct value for _6830 instance:\", lp_flow_value(G_6830) == 299390431788\n",
    "print \"Correct value for _176280 instance:\", lp_flow_value(G_176280) == 510585093810"
   ]
  },
  {
   "cell_type": "code",
   "execution_count": null,
   "metadata": {
    "collapsed": true
   },
   "outputs": [],
   "source": []
  }
 ],
 "metadata": {
  "kernelspec": {
   "display_name": "Python 2",
   "language": "python",
   "name": "python2"
  },
  "language_info": {
   "codemirror_mode": {
    "name": "ipython",
    "version": 2
   },
   "file_extension": ".py",
   "mimetype": "text/x-python",
   "name": "python",
   "nbconvert_exporter": "python",
   "pygments_lexer": "ipython2",
   "version": "2.7.10"
  }
 },
 "nbformat": 4,
 "nbformat_minor": 0
}
